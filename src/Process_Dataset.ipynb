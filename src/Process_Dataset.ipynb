{
 "cells": [
  {
   "cell_type": "code",
   "execution_count": null,
   "metadata": {},
   "outputs": [],
   "source": [
    "import DatasetProcessor as dp\n",
    "import mne\n",
    "import glob\n",
    "import os\n",
    "import pandas as pd"
   ]
  },
  {
   "cell_type": "code",
   "execution_count": null,
   "metadata": {},
   "outputs": [],
   "source": [
    "# config\n",
    "data_in = \"../data/tuh_seizure\"\n",
    "data_out = \"../processed\"\n",
    "desired_channels = [\"FP1\", \"FP2\", \"F3\", \"F4\", \"C3\", \"C4\",\n",
    "                    \"P3\", \"P4\", \"O1\", \"O2\", \"F7\", \"F8\", \n",
    "                    \"T7\", \"P7\", \"T8\", \"P8\", \"FZ\", \"CZ\", \"PZ\"]\n",
    "TARGET_SFREQ=200\n",
    "N_JOBS=6\n",
    "split_lenght=10     # in Seconds\n",
    "HIGHPASS=1\n",
    "LOWPASS=50"
   ]
  },
  {
   "cell_type": "code",
   "execution_count": null,
   "metadata": {},
   "outputs": [],
   "source": [
    "# get all edfs\n",
    "edf_list = glob.glob(os.path.join(data_in, \"*\", \"*\", \"*\", \"*\", \"*\", \"*\", \"*.edf\"))\n",
    "df = pd.DataFrame({\"EEG_Files\": edf_list})\n",
    "df"
   ]
  },
  {
   "cell_type": "code",
   "execution_count": null,
   "metadata": {},
   "outputs": [],
   "source": [
    "one_edf = df.EEG_Files[15]\n",
    "#raw = mne.io.read_raw_edf(one_edf)\n",
    "#raw.plot()"
   ]
  },
  {
   "cell_type": "code",
   "execution_count": null,
   "metadata": {},
   "outputs": [],
   "source": [
    "et = dp.EEGTransformer(one_edf, desired_channels, target_sfreq=100, lowpass=0.1, highpass=50, n_jobs=6)\n",
    "ch_mapping, raw = et.transformEEG()\n",
    "ch_mapping"
   ]
  },
  {
   "cell_type": "code",
   "execution_count": null,
   "metadata": {},
   "outputs": [],
   "source": [
    "raw.plot()"
   ]
  },
  {
   "cell_type": "code",
   "execution_count": null,
   "metadata": {},
   "outputs": [],
   "source": []
  },
  {
   "cell_type": "code",
   "execution_count": null,
   "metadata": {},
   "outputs": [],
   "source": []
  },
  {
   "cell_type": "code",
   "execution_count": null,
   "metadata": {},
   "outputs": [],
   "source": []
  },
  {
   "cell_type": "code",
   "execution_count": null,
   "metadata": {},
   "outputs": [],
   "source": []
  },
  {
   "cell_type": "code",
   "execution_count": null,
   "metadata": {},
   "outputs": [],
   "source": []
  },
  {
   "cell_type": "code",
   "execution_count": null,
   "metadata": {},
   "outputs": [],
   "source": []
  },
  {
   "cell_type": "code",
   "execution_count": null,
   "metadata": {},
   "outputs": [],
   "source": []
  }
 ],
 "metadata": {
  "kernelspec": {
   "display_name": "Python 3 (ipykernel)",
   "language": "python",
   "name": "python3"
  },
  "language_info": {
   "codemirror_mode": {
    "name": "ipython",
    "version": 3
   },
   "file_extension": ".py",
   "mimetype": "text/x-python",
   "name": "python",
   "nbconvert_exporter": "python",
   "pygments_lexer": "ipython3",
   "version": "3.9.12"
  }
 },
 "nbformat": 4,
 "nbformat_minor": 4
}
