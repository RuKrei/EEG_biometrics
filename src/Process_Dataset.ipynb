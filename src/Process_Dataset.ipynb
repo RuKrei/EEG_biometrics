{
 "cells": [
  {
   "cell_type": "code",
   "execution_count": null,
   "metadata": {
    "tags": []
   },
   "outputs": [],
   "source": [
    "import DatasetProcessor as dp\n",
    "import mne\n",
    "import glob\n",
    "import os\n",
    "import pandas as pd"
   ]
  },
  {
   "cell_type": "code",
   "execution_count": null,
   "metadata": {
    "tags": []
   },
   "outputs": [],
   "source": [
    "# config\n",
    "DATA_IN = \"../data/tuh_seizure\"\n",
    "DATA_OUT = \"../data/processed\"\n",
    "DESIRED_CHANNELS = [\"FP1\", \"FP2\", \"F3\", \"F4\", \"C3\", \"C4\",\n",
    "                    \"P3\", \"P4\", \"O1\", \"O2\", \"F7\", \"F8\", \n",
    "                    \"T7\", \"P7\", \"T8\", \"P8\", \"FZ\", \"CZ\", \"PZ\"]\n",
    "TARGET_SFREQ=100\n",
    "N_JOBS=2\n",
    "SPLIT_LENGTH=10     # in Seconds\n",
    "HIGHPASS=1\n",
    "LOWPASS=50"
   ]
  },
  {
   "cell_type": "code",
   "execution_count": null,
   "metadata": {
    "tags": []
   },
   "outputs": [],
   "source": [
    "# get all edfs\n",
    "edf_list = glob.glob(os.path.join(DATA_IN, \"*\", \"*\", \"*\", \"*\", \"*\", \"*\", \"*.edf\"))\n",
    "df = pd.DataFrame({\"EEG_Files\": edf_list})\n",
    "df"
   ]
  },
  {
   "cell_type": "code",
   "execution_count": null,
   "metadata": {
    "tags": []
   },
   "outputs": [],
   "source": [
    "one_edf = df.EEG_Files[115]\n",
    "raw = mne.io.read_raw_edf(one_edf)\n",
    "#raw.plot(title=\"Raw EEG\", scalings=60e-6, duration=5)"
   ]
  },
  {
   "cell_type": "code",
   "execution_count": null,
   "metadata": {
    "tags": []
   },
   "outputs": [],
   "source": [
    "et = dp.EEGTransformer(desired_channels=DESIRED_CHANNELS, target_sfreq=TARGET_SFREQ, \n",
    "                       lowpass=LOWPASS, highpass=HIGHPASS, n_jobs=N_JOBS)\n",
    "proc_raw, ch_mapping = et.transformEEG(one_edf)\n",
    "#ch_mapping"
   ]
  },
  {
   "cell_type": "code",
   "execution_count": null,
   "metadata": {},
   "outputs": [],
   "source": [
    "#proc_raw.plot(title=\"Processed EEG\", scalings=60e-6, duration=5)\n",
    "target = os.path.split(one_edf)[-1].split(\"_\")[0]\n",
    "\n",
    "target_stem = os.path.join(DATA_OUT, target)\n",
    "\n",
    "idx = len(glob.glob(f\"{target_stem}_split_*.edf\")) + 1\n",
    "\n",
    "filename = target + \"_split_\" + str(idx) + \".edf\"\n",
    "\n",
    "print(f\"Target stem: {target_stem}\")\n",
    "print(f\"Target: {target}\")\n",
    "print(f\"Idx = {idx}\")\n",
    "print(f\"Filename = {filename}\") "
   ]
  },
  {
   "cell_type": "code",
   "execution_count": null,
   "metadata": {},
   "outputs": [],
   "source": [
    "sas = dp.SplitAndSaveEEG(split_length=SPLIT_LENGTH, data_out=DATA_OUT)\n",
    "sas.split_EEG(proc_raw, target=target)"
   ]
  },
  {
   "cell_type": "code",
   "execution_count": null,
   "metadata": {
    "tags": []
   },
   "outputs": [],
   "source": [
    "import glob\n",
    "glob.glob(DATA_OUT + \"/*\")\n"
   ]
  },
  {
   "cell_type": "code",
   "execution_count": null,
   "metadata": {},
   "outputs": [],
   "source": []
  },
  {
   "cell_type": "code",
   "execution_count": null,
   "metadata": {},
   "outputs": [],
   "source": []
  },
  {
   "cell_type": "code",
   "execution_count": null,
   "metadata": {},
   "outputs": [],
   "source": []
  },
  {
   "cell_type": "code",
   "execution_count": null,
   "metadata": {},
   "outputs": [],
   "source": []
  },
  {
   "cell_type": "code",
   "execution_count": null,
   "metadata": {},
   "outputs": [],
   "source": []
  }
 ],
 "metadata": {
  "interpreter": {
   "hash": "dce51cefe11a350b67d5e4c64a86b76cce2cc80f85f8bef7e7d6ff7cd74756a2"
  },
  "kernelspec": {
   "display_name": "Python 3 (ipykernel)",
   "language": "python",
   "name": "python3"
  },
  "language_info": {
   "codemirror_mode": {
    "name": "ipython",
    "version": 3
   },
   "file_extension": ".py",
   "mimetype": "text/x-python",
   "name": "python",
   "nbconvert_exporter": "python",
   "pygments_lexer": "ipython3",
   "version": "3.9.12"
  }
 },
 "nbformat": 4,
 "nbformat_minor": 4
}
