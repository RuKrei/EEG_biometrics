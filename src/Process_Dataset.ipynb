{
 "cells": [
  {
   "cell_type": "code",
   "execution_count": 1,
   "metadata": {},
   "outputs": [],
   "source": [
    "import DatasetProcessor as dp\n",
    "import mne\n",
    "import glob\n",
    "import os\n",
    "import pandas as pd"
   ]
  },
  {
   "cell_type": "code",
   "execution_count": 2,
   "metadata": {},
   "outputs": [],
   "source": [
    "# config\n",
    "data_in = \"../data/tuh_seizure\"\n",
    "data_out = \"../processed\"\n",
    "desired_channels = [\"FP1\", \"FP2\", \"F3\", \"F4\", \"C3\", \"C4\",\n",
    "                    \"P3\", \"P4\", \"O1\", \"O2\", \"F7\", \"F8\", \n",
    "                    \"T7\", \"P7\", \"T8\", \"P8\", \"FZ\", \"CZ\", \"PZ\"]\n",
    "TARGET_SFREQ=100\n",
    "N_JOBS=2\n",
    "split_lenght=10     # in Seconds\n",
    "HIGHPASS=1\n",
    "LOWPASS=50"
   ]
  },
  {
   "cell_type": "code",
   "execution_count": 3,
   "metadata": {},
   "outputs": [
    {
     "data": {
      "text/html": [
       "<div>\n",
       "<style scoped>\n",
       "    .dataframe tbody tr th:only-of-type {\n",
       "        vertical-align: middle;\n",
       "    }\n",
       "\n",
       "    .dataframe tbody tr th {\n",
       "        vertical-align: top;\n",
       "    }\n",
       "\n",
       "    .dataframe thead th {\n",
       "        text-align: right;\n",
       "    }\n",
       "</style>\n",
       "<table border=\"1\" class=\"dataframe\">\n",
       "  <thead>\n",
       "    <tr style=\"text-align: right;\">\n",
       "      <th></th>\n",
       "      <th>EEG_Files</th>\n",
       "    </tr>\n",
       "  </thead>\n",
       "  <tbody>\n",
       "    <tr>\n",
       "      <th>0</th>\n",
       "      <td>../data/tuh_seizure/edf/dev/03_tcp_ar_a/022/00...</td>\n",
       "    </tr>\n",
       "    <tr>\n",
       "      <th>1</th>\n",
       "      <td>../data/tuh_seizure/edf/dev/03_tcp_ar_a/022/00...</td>\n",
       "    </tr>\n",
       "    <tr>\n",
       "      <th>2</th>\n",
       "      <td>../data/tuh_seizure/edf/dev/03_tcp_ar_a/022/00...</td>\n",
       "    </tr>\n",
       "    <tr>\n",
       "      <th>3</th>\n",
       "      <td>../data/tuh_seizure/edf/dev/03_tcp_ar_a/022/00...</td>\n",
       "    </tr>\n",
       "    <tr>\n",
       "      <th>4</th>\n",
       "      <td>../data/tuh_seizure/edf/dev/03_tcp_ar_a/022/00...</td>\n",
       "    </tr>\n",
       "    <tr>\n",
       "      <th>...</th>\n",
       "      <td>...</td>\n",
       "    </tr>\n",
       "    <tr>\n",
       "      <th>121</th>\n",
       "      <td>../data/tuh_seizure/edf/dev/01_tcp_ar/002/0000...</td>\n",
       "    </tr>\n",
       "    <tr>\n",
       "      <th>122</th>\n",
       "      <td>../data/tuh_seizure/edf/dev/01_tcp_ar/002/0000...</td>\n",
       "    </tr>\n",
       "    <tr>\n",
       "      <th>123</th>\n",
       "      <td>../data/tuh_seizure/edf/dev/01_tcp_ar/002/0000...</td>\n",
       "    </tr>\n",
       "    <tr>\n",
       "      <th>124</th>\n",
       "      <td>../data/tuh_seizure/edf/dev/01_tcp_ar/002/0000...</td>\n",
       "    </tr>\n",
       "    <tr>\n",
       "      <th>125</th>\n",
       "      <td>../data/tuh_seizure/edf/dev/01_tcp_ar/002/0000...</td>\n",
       "    </tr>\n",
       "  </tbody>\n",
       "</table>\n",
       "<p>126 rows × 1 columns</p>\n",
       "</div>"
      ],
      "text/plain": [
       "                                             EEG_Files\n",
       "0    ../data/tuh_seizure/edf/dev/03_tcp_ar_a/022/00...\n",
       "1    ../data/tuh_seizure/edf/dev/03_tcp_ar_a/022/00...\n",
       "2    ../data/tuh_seizure/edf/dev/03_tcp_ar_a/022/00...\n",
       "3    ../data/tuh_seizure/edf/dev/03_tcp_ar_a/022/00...\n",
       "4    ../data/tuh_seizure/edf/dev/03_tcp_ar_a/022/00...\n",
       "..                                                 ...\n",
       "121  ../data/tuh_seizure/edf/dev/01_tcp_ar/002/0000...\n",
       "122  ../data/tuh_seizure/edf/dev/01_tcp_ar/002/0000...\n",
       "123  ../data/tuh_seizure/edf/dev/01_tcp_ar/002/0000...\n",
       "124  ../data/tuh_seizure/edf/dev/01_tcp_ar/002/0000...\n",
       "125  ../data/tuh_seizure/edf/dev/01_tcp_ar/002/0000...\n",
       "\n",
       "[126 rows x 1 columns]"
      ]
     },
     "execution_count": 3,
     "metadata": {},
     "output_type": "execute_result"
    }
   ],
   "source": [
    "# get all edfs\n",
    "edf_list = glob.glob(os.path.join(data_in, \"*\", \"*\", \"*\", \"*\", \"*\", \"*\", \"*.edf\"))\n",
    "df = pd.DataFrame({\"EEG_Files\": edf_list})\n",
    "df"
   ]
  },
  {
   "cell_type": "code",
   "execution_count": 4,
   "metadata": {},
   "outputs": [
    {
     "ename": "NameError",
     "evalue": "name 'raw' is not defined",
     "output_type": "error",
     "traceback": [
      "\u001b[0;31m---------------------------------------------------------------------------\u001b[0m",
      "\u001b[0;31mNameError\u001b[0m                                 Traceback (most recent call last)",
      "\u001b[0;32m<ipython-input-4-4cbab2e9b6fd>\u001b[0m in \u001b[0;36m<module>\u001b[0;34m\u001b[0m\n\u001b[1;32m      1\u001b[0m \u001b[0mone_edf\u001b[0m \u001b[0;34m=\u001b[0m \u001b[0mdf\u001b[0m\u001b[0;34m.\u001b[0m\u001b[0mEEG_Files\u001b[0m\u001b[0;34m[\u001b[0m\u001b[0;36m15\u001b[0m\u001b[0;34m]\u001b[0m\u001b[0;34m\u001b[0m\u001b[0;34m\u001b[0m\u001b[0m\n\u001b[1;32m      2\u001b[0m \u001b[0;31m#raw = mne.io.read_raw_edf(one_edf)\u001b[0m\u001b[0;34m\u001b[0m\u001b[0;34m\u001b[0m\u001b[0;34m\u001b[0m\u001b[0m\n\u001b[0;32m----> 3\u001b[0;31m \u001b[0mraw\u001b[0m\u001b[0;34m.\u001b[0m\u001b[0mplot\u001b[0m\u001b[0;34m(\u001b[0m\u001b[0;34m)\u001b[0m\u001b[0;34m\u001b[0m\u001b[0;34m\u001b[0m\u001b[0m\n\u001b[0m",
      "\u001b[0;31mNameError\u001b[0m: name 'raw' is not defined"
     ]
    }
   ],
   "source": [
    "one_edf = df.EEG_Files[15]\n",
    "raw = mne.io.read_raw_edf(one_edf)\n",
    "raw.plot()"
   ]
  },
  {
   "cell_type": "code",
   "execution_count": null,
   "metadata": {},
   "outputs": [],
   "source": [
    "et = dp.EEGTransformer(one_edf, desired_channels, target_sfreq=TARGET_SFREQ, lowpass=LOWPASS, highpass=HIGHPASS, n_jobs=N_JOBS)\n",
    "raw, ch_mapping = et.transformEEG()\n",
    "ch_mapping"
   ]
  },
  {
   "cell_type": "code",
   "execution_count": null,
   "metadata": {},
   "outputs": [],
   "source": [
    "raw.plot()"
   ]
  },
  {
   "cell_type": "code",
   "execution_count": null,
   "metadata": {},
   "outputs": [],
   "source": []
  },
  {
   "cell_type": "code",
   "execution_count": null,
   "metadata": {},
   "outputs": [],
   "source": []
  },
  {
   "cell_type": "code",
   "execution_count": null,
   "metadata": {},
   "outputs": [],
   "source": []
  },
  {
   "cell_type": "code",
   "execution_count": null,
   "metadata": {},
   "outputs": [],
   "source": []
  },
  {
   "cell_type": "code",
   "execution_count": null,
   "metadata": {},
   "outputs": [],
   "source": []
  },
  {
   "cell_type": "code",
   "execution_count": null,
   "metadata": {},
   "outputs": [],
   "source": []
  },
  {
   "cell_type": "code",
   "execution_count": null,
   "metadata": {},
   "outputs": [],
   "source": []
  }
 ],
 "metadata": {
  "interpreter": {
   "hash": "dce51cefe11a350b67d5e4c64a86b76cce2cc80f85f8bef7e7d6ff7cd74756a2"
  },
  "kernelspec": {
   "display_name": "Python 3.7.5 64-bit ('MEG': conda)",
   "name": "python3"
  },
  "language_info": {
   "codemirror_mode": {
    "name": "ipython",
    "version": 3
   },
   "file_extension": ".py",
   "mimetype": "text/x-python",
   "name": "python",
   "nbconvert_exporter": "python",
   "pygments_lexer": "ipython3",
   "version": "3.7.5"
  }
 },
 "nbformat": 4,
 "nbformat_minor": 4
}
